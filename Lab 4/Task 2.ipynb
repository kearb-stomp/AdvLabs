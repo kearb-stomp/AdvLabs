{
 "cells": [
  {
   "cell_type": "code",
   "execution_count": 1,
   "id": "d5fc8d30",
   "metadata": {},
   "outputs": [],
   "source": [
    "import numpy as np\n",
    "import matplotlib.pyplot as plt\n",
    "import pandas as pd\n",
    "from scipy.optimize import curve_fit\n",
    "import importlib\n",
    "from cycler import cycler\n",
    "from pathlib import Path\n",
    "from matplotlib.ticker import MultipleLocator\n",
    "\n",
    "# import utils\n",
    "# importlib.reload(utils)"
   ]
  },
  {
   "cell_type": "code",
   "execution_count": null,
   "id": "fb53095d",
   "metadata": {},
   "outputs": [],
   "source": [
    "# Import the data\n",
    "file_paths = ['Data/task 2.2' 'Data/task 2.3']\n",
    "\n",
    "data_dict = {}\n",
    "\n",
    "data_dict['']"
   ]
  }
 ],
 "metadata": {
  "kernelspec": {
   "display_name": "base",
   "language": "python",
   "name": "python3"
  },
  "language_info": {
   "codemirror_mode": {
    "name": "ipython",
    "version": 3
   },
   "file_extension": ".py",
   "mimetype": "text/x-python",
   "name": "python",
   "nbconvert_exporter": "python",
   "pygments_lexer": "ipython3",
   "version": "3.12.3"
  }
 },
 "nbformat": 4,
 "nbformat_minor": 5
}
